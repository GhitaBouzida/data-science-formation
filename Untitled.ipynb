{
 "cells": [
  {
   "cell_type": "code",
   "execution_count": null,
   "id": "e03f0a1e",
   "metadata": {},
   "outputs": [
    {
     "name": "stdout",
     "output_type": "stream",
     "text": [
      "Welcome to Python Pizza Deliveries\n"
     ]
    }
   ],
   "source": [
    "print(\"Welcome to Python Pizza Deliveries\")\n",
    "\n",
    "# The size of the pizza \n",
    "size = input(\"What size pizza do you want? S, M, or L \")\n",
    "\n",
    "# The base price of the pizza by size\n",
    "if size == \"S\":\n",
    "    pizza_price = 15\n",
    "elif size == \"M\":\n",
    "    pizza_price = 20\n",
    "else:\n",
    "    pizza_price = 25\n",
    "\n",
    "# Add pepperoni option\n",
    "add_pepperoni = input(\"Do you want to add pepperoni? Y or N \")\n",
    "if add_pepperoni == \"Y\":\n",
    "    if size == \"S\":\n",
    "        pizza_price += 2\n",
    "    else:\n",
    "        pizza_price += 3\n",
    "\n",
    "# Extra cheese option\n",
    "extra_cheese = input(\"Do you want extra cheese? Y or N \")\n",
    "if extra_cheese == \"Y\":\n",
    "    pizza_price += 1\n",
    "\n",
    "# The final bill \n",
    "print(f\"Your final bill is: ${pizza_price}.\")\n"
   ]
  },
  {
   "cell_type": "code",
   "execution_count": null,
   "id": "bd8f0f32",
   "metadata": {},
   "outputs": [],
   "source": []
  }
 ],
 "metadata": {
  "kernelspec": {
   "display_name": "Python 3 (ipykernel)",
   "language": "python",
   "name": "python3"
  },
  "language_info": {
   "codemirror_mode": {
    "name": "ipython",
    "version": 3
   },
   "file_extension": ".py",
   "mimetype": "text/x-python",
   "name": "python",
   "nbconvert_exporter": "python",
   "pygments_lexer": "ipython3",
   "version": "3.9.13"
  }
 },
 "nbformat": 4,
 "nbformat_minor": 5
}
