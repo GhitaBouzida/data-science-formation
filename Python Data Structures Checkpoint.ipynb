{
 "cells": [
  {
   "cell_type": "code",
   "execution_count": 2,
   "id": "8472649f",
   "metadata": {},
   "outputs": [
    {
     "name": "stdout",
     "output_type": "stream",
     "text": [
      "What would you like to do?\n",
      "1. Add item\n",
      "2. Remove item\n",
      "3. View list\n",
      "4. Quit\n",
      "Enter your choice (1-4): 1\n",
      "Enter item to add: 2\n",
      "Item added to the list.\n",
      "What would you like to do?\n",
      "1. Add item\n",
      "2. Remove item\n",
      "3. View list\n",
      "4. Quit\n",
      "Enter your choice (1-4): 3\n",
      "Shopping list:\n",
      "- 2\n",
      "What would you like to do?\n",
      "1. Add item\n",
      "2. Remove item\n",
      "3. View list\n",
      "4. Quit\n",
      "Enter your choice (1-4): 4\n",
      "Goodbye!\n"
     ]
    }
   ],
   "source": [
    "# Create a list named 'shopping_list' to store the items\n",
    "shopping_list = []\n",
    "\n",
    "# Use a while loop to create a menu of options for the user to add, remove, or view items from the list\n",
    "while True:\n",
    "    print(\"What would you like to do?\")\n",
    "    print(\"1. Add item\")\n",
    "    print(\"2. Remove item\")\n",
    "    print(\"3. View list\")\n",
    "    print(\"4. Quit\")\n",
    "\n",
    "    # Use the input() function to prompt the user to make a selection from the menu\n",
    "    choice = input(\"Enter your choice (1-4): \")\n",
    "\n",
    "    # Use an if-elif-else block to determine the user's selection and perform the corresponding action\n",
    "    if choice == \"1\":\n",
    "        # If the user selects 'add', use the input() function to prompt the user to enter an item to add to the list\n",
    "        if len(shopping_list) < 5:\n",
    "            item = input(\"Enter item to add: \")\n",
    "            shopping_list.append(item)\n",
    "            print(\"Item added to the list.\")\n",
    "        else:\n",
    "            print(\"You cannot add more than 5 items to the list.\")\n",
    "    elif choice == \"2\":\n",
    "        # If the user selects 'remove', use the input() function to prompt the user to enter an item to remove from the list\n",
    "        item = input(\"Enter item to remove: \")\n",
    "        if item in shopping_list:\n",
    "            shopping_list.remove(item)\n",
    "            print(\"Item removed from the list.\")\n",
    "        else:\n",
    "            print(\"Item not found in the list.\")\n",
    "    elif choice == \"3\":\n",
    "        # If the user selects 'view', use a for loop to iterate through the list of items and display them to the user\n",
    "        print(\"Shopping list:\")\n",
    "        for item in shopping_list:\n",
    "            print(\"- \" + item)\n",
    "    elif choice == \"4\":\n",
    "        # Quit the program\n",
    "        print(\"Goodbye!\")\n",
    "        break\n",
    "    else:\n",
    "        print(\"Invalid choice. Please enter a number from 1 to 4.\")\n",
    "\n",
    "# Use the list, tuple, set, and dictionary data structures to store and manipulate the shopping items\n",
    "# For example, you can convert the list to a tuple or set to remove duplicates\n",
    "shopping_tuple = tuple(shopping_list)\n",
    "shopping_set = set(shopping_list)\n"
   ]
  },
  {
   "cell_type": "code",
   "execution_count": null,
   "id": "984ab8a9",
   "metadata": {},
   "outputs": [],
   "source": []
  }
 ],
 "metadata": {
  "kernelspec": {
   "display_name": "Python 3 (ipykernel)",
   "language": "python",
   "name": "python3"
  },
  "language_info": {
   "codemirror_mode": {
    "name": "ipython",
    "version": 3
   },
   "file_extension": ".py",
   "mimetype": "text/x-python",
   "name": "python",
   "nbconvert_exporter": "python",
   "pygments_lexer": "ipython3",
   "version": "3.9.13"
  }
 },
 "nbformat": 4,
 "nbformat_minor": 5
}
